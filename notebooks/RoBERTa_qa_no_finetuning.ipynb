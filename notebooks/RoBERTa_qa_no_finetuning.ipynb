{
 "cells": [
  {
   "cell_type": "code",
   "execution_count": null,
   "id": "a08b78c5",
   "metadata": {},
   "outputs": [],
   "source": [
    "%pip install transformers datasets evaluate"
   ]
  },
  {
   "cell_type": "code",
   "execution_count": 3,
   "id": "3fd7428c",
   "metadata": {},
   "outputs": [],
   "source": [
    "from typing import List\n",
    "import os\n",
    "import pandas as pd\n",
    "import numpy as np\n",
    "\n",
    "from transformers import AutoTokenizer, AutoModelForMultipleChoice\n",
    "import torch\n",
    "from torch import nn"
   ]
  },
  {
   "cell_type": "code",
   "execution_count": 2,
   "id": "f809ab59",
   "metadata": {},
   "outputs": [],
   "source": [
    "# data paths \n",
    "DIR = os.getcwd()\n",
    "TRAIN_FEATURES_FILE = \"train_features_X4juyT6.csv\"\n",
    "TRAIN_LABELS_FILE = \"train_labels_JxtENGl.csv\"\n",
    "TEST_FEATURES_FILE = \"smoke_test_features_bWOfr2M.csv\"\n",
    "TEST_LABELS_FILE = \"smoke_test_labels_waBGl8d.csv\"\n",
    "\n",
    "TRAIN_FEATURES_PATH = DIR + f\"/data/{TRAIN_FEATURES_FILE}\"\n",
    "TRAIN_LABELS_PATH = DIR + f\"/data/{TRAIN_LABELS_FILE}\"\n",
    "TEST_FEATURES_PATH = DIR + f\"/data/{TEST_FEATURES_FILE}\"\n",
    "TEST_LABELS_PATH = DIR + f\"/data/{TEST_LABELS_FILE}\""
   ]
  },
  {
   "cell_type": "code",
   "execution_count": 3,
   "id": "916b1ab6",
   "metadata": {},
   "outputs": [],
   "source": [
    "# load data \n",
    "train_features_df = pd.read_csv(TRAIN_FEATURES_PATH)\n",
    "train_labels_df = pd.read_csv(TRAIN_LABELS_PATH)"
   ]
  },
  {
   "cell_type": "code",
   "execution_count": 4,
   "id": "e2e2efe3",
   "metadata": {},
   "outputs": [
    {
     "name": "stderr",
     "output_type": "stream",
     "text": [
      "/Users/edwardyao/anaconda3/lib/python3.10/site-packages/huggingface_hub/file_download.py:1150: FutureWarning: `resume_download` is deprecated and will be removed in version 1.0.0. Downloads always resume when possible. If you want to force a new download, use `force_download=True`.\n",
      "  warnings.warn(\n"
     ]
    }
   ],
   "source": [
    "# load RoBERTa\n",
    "model_checkpoint = \"Payoto/roberta-base-finetuned-swag\"\n",
    "\n",
    "tokenizer = AutoTokenizer.from_pretrained(model_checkpoint)\n",
    "model = AutoModelForMultipleChoice.from_pretrained(model_checkpoint)"
   ]
  },
  {
   "cell_type": "code",
   "execution_count": 5,
   "id": "22e5ef78",
   "metadata": {},
   "outputs": [],
   "source": [
    "def answer_depressed(prompt, tokenizer, model):\n",
    "    \n",
    "    candidate1 = \"not depressed\"\n",
    "    candidate2 = \"depressed\"\n",
    "    \n",
    "    inputs = tokenizer([[prompt, candidate1], [prompt, candidate2]], return_tensors=\"pt\", padding=True)\n",
    "    labels = torch.tensor(0).unsqueeze(0)\n",
    "    \n",
    "    outputs = model(**{k: v.unsqueeze(0) for k, v in inputs.items()}, labels=labels)\n",
    "    logits = outputs.logits\n",
    "\n",
    "    answer = logits.argmax().item()\n",
    "    \n",
    "    return answer"
   ]
  },
  {
   "cell_type": "code",
   "execution_count": 7,
   "id": "3c10890b",
   "metadata": {
    "scrolled": true
   },
   "outputs": [
    {
     "name": "stderr",
     "output_type": "stream",
     "text": [
      "Token indices sequence length is longer than the specified maximum sequence length for this model (527 > 512). Running this sequence through the model will result in indexing errors\n"
     ]
    },
    {
     "name": "stdout",
     "output_type": "stream",
     "text": [
      "2432\n",
      "2618\n",
      "3923\n",
      "2282\n",
      "2430\n",
      "2831\n",
      "2672\n",
      "2610\n",
      "5407\n",
      "2535\n",
      "2924\n",
      "2352\n",
      "3804\n",
      "3663\n",
      "2315\n",
      "2959\n",
      "2676\n",
      "2694\n",
      "3101\n",
      "2579\n",
      "2578\n",
      "2389\n",
      "2342\n",
      "2568\n",
      "3135\n",
      "3285\n",
      "2620\n",
      "3671\n",
      "2288\n",
      "2507\n",
      "3570\n",
      "3636\n",
      "2663\n",
      "2548\n",
      "2256\n",
      "2285\n",
      "2165\n",
      "3213\n",
      "3113\n",
      "2583\n",
      "2878\n",
      "2772\n",
      "2432\n",
      "3227\n",
      "2472\n",
      "2863\n",
      "2485\n",
      "3484\n",
      "2870\n",
      "3448\n",
      "2499\n",
      "2453\n",
      "2951\n",
      "3405\n",
      "3056\n",
      "3950\n",
      "2356\n",
      "2356\n",
      "3448\n",
      "2384\n",
      "2821\n",
      "2566\n",
      "3427\n",
      "2470\n",
      "2499\n",
      "2246\n",
      "2481\n",
      "3175\n",
      "2724\n",
      "2844\n",
      "3415\n",
      "3216\n",
      "2872\n",
      "2907\n",
      "2785\n",
      "3605\n",
      "2961\n",
      "7017\n",
      "3815\n",
      "3370\n",
      "2338\n",
      "3847\n",
      "3328\n",
      "2528\n",
      "3011\n",
      "3095\n",
      "2498\n",
      "2270\n",
      "4123\n"
     ]
    }
   ],
   "source": [
    "llm_answers_depressed = {}\n",
    "for idx in range(len(train_features_df)):\n",
    "    \n",
    "    p = train_features_df['NarrativeCME'][idx]\n",
    "    try:\n",
    "        answer = answer_depressed(p, tokenizer, model)\n",
    "        llm_answers_depressed[idx] = answer\n",
    "    except:\n",
    "        print(len(p))"
   ]
  },
  {
   "cell_type": "code",
   "execution_count": 12,
   "id": "302a2d37",
   "metadata": {},
   "outputs": [
    {
     "data": {
      "text/plain": [
       "1287"
      ]
     },
     "execution_count": 12,
     "metadata": {},
     "output_type": "execute_result"
    }
   ],
   "source": [
    "actual_answer = []\n",
    "predicted_answer = []\n",
    "\n",
    "correct = []\n",
    "\n",
    "for k, v in llm_answers_depressed.items():\n",
    "    \n",
    "    actual = train_labels_df['DepressedMood'][k]\n",
    "    predicted = v\n",
    "    actual_answer.append(actual)\n",
    "    predicted_answer.append(v)\n",
    "    \n",
    "    correct.append(actual == predicted)\n",
    "\n",
    "sum(correct)"
   ]
  },
  {
   "cell_type": "code",
   "execution_count": 13,
   "id": "0733a0e0",
   "metadata": {},
   "outputs": [
    {
     "data": {
      "text/plain": [
       "0.3290718486320634"
      ]
     },
     "execution_count": 13,
     "metadata": {},
     "output_type": "execute_result"
    }
   ],
   "source": [
    "sum(correct) / len(correct)"
   ]
  },
  {
   "cell_type": "code",
   "execution_count": 6,
   "id": "2670d5ca",
   "metadata": {},
   "outputs": [],
   "source": [
    "class FCN(nn.Module):\n",
    "    \n",
    "    def __init__(self, \n",
    "                 in_features: int,\n",
    "                 out_dims: List[int],\n",
    "                 task_classes: List[int],\n",
    "                 dropout: float):\n",
    "        super().__init__()\n",
    "        \n",
    "        layers = []\n",
    "        input_size = in_features\n",
    "        for dim in out_dims:\n",
    "            layers.append(nn.Linear(input_size, dim))\n",
    "            layers.append(nn.ReLU())\n",
    "            layers.append(nn.Dropout(dropout))\n",
    "            input_size = dim\n",
    "        \n",
    "        self.base_model = nn.Sequential(*layers)\n",
    "        self.classification_layers = []\n",
    "        for task in task_classes:\n",
    "            if task > 2: \n",
    "                self.classification_layers.append(nn.Sequential(nn.Linear(input_size, task),\n",
    "                                                          nn.Softmax(dim=1)))\n",
    "            else:\n",
    "                self.classification_layers.append(nn.Sequential(nn.Linear(input_size, task),\n",
    "                                                          nn.Sigmoid()))\n",
    "    def forward(self, x: torch.tensor) -> List[torch.tensor]:\n",
    "        \n",
    "        out = self.base_model(x)\n",
    "        output_labels = []\n",
    "        for class_head in self.classification_layers:\n",
    "            output_labels.append(class_head(out))\n",
    "        \n",
    "        return output_labels"
   ]
  },
  {
   "cell_type": "code",
   "execution_count": 7,
   "id": "aea3c910",
   "metadata": {},
   "outputs": [],
   "source": [
    "net = FCN(in_features=2, out_dims=[256,256], task_classes=[2,2,2],dropout=0.5)"
   ]
  },
  {
   "cell_type": "code",
   "execution_count": 13,
   "id": "d3a484dd",
   "metadata": {},
   "outputs": [
    {
     "ename": "TypeError",
     "evalue": "object of type 'generator' has no len()",
     "output_type": "error",
     "traceback": [
      "\u001b[0;31m---------------------------------------------------------------------------\u001b[0m",
      "\u001b[0;31mTypeError\u001b[0m                                 Traceback (most recent call last)",
      "Cell \u001b[0;32mIn[13], line 2\u001b[0m\n\u001b[1;32m      1\u001b[0m \u001b[38;5;28;01mfor\u001b[39;00m layer \u001b[38;5;129;01min\u001b[39;00m net\u001b[38;5;241m.\u001b[39mclassification_layers:\n\u001b[0;32m----> 2\u001b[0m     \u001b[38;5;28mprint\u001b[39m(\u001b[38;5;28;43mlen\u001b[39;49m\u001b[43m(\u001b[49m\u001b[43mlayer\u001b[49m\u001b[38;5;241;43m.\u001b[39;49m\u001b[43mparameters\u001b[49m\u001b[43m(\u001b[49m\u001b[43m)\u001b[49m\u001b[43m)\u001b[49m)\n",
      "\u001b[0;31mTypeError\u001b[0m: object of type 'generator' has no len()"
     ]
    }
   ],
   "source": [
    "for layer in net.classification_layers:\n",
    "    print(len(layer.parameters()))"
   ]
  }
 ],
 "metadata": {
  "kernelspec": {
   "display_name": "Python 3 (ipykernel)",
   "language": "python",
   "name": "python3"
  },
  "language_info": {
   "codemirror_mode": {
    "name": "ipython",
    "version": 3
   },
   "file_extension": ".py",
   "mimetype": "text/x-python",
   "name": "python",
   "nbconvert_exporter": "python",
   "pygments_lexer": "ipython3",
   "version": "3.10.9"
  }
 },
 "nbformat": 4,
 "nbformat_minor": 5
}
